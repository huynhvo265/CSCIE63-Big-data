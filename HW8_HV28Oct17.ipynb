{
 "cells": [
  {
   "cell_type": "code",
   "execution_count": null,
   "metadata": {
    "collapsed": true
   },
   "outputs": [],
   "source": [
    "#Student: Huynh Vo\n",
    "##Question 1"
   ]
  },
  {
   "cell_type": "code",
   "execution_count": null,
   "metadata": {
    "collapsed": true
   },
   "outputs": [],
   "source": [
    "import numpy\n",
    "import sys\n",
    "from astropy.table import table"
   ]
  },
  {
   "cell_type": "code",
   "execution_count": 6,
   "metadata": {
    "collapsed": true
   },
   "outputs": [],
   "source": [
    "import nltk"
   ]
  },
  {
   "cell_type": "code",
   "execution_count": 3,
   "metadata": {},
   "outputs": [
    {
     "name": "stdout",
     "output_type": "stream",
     "text": [
      "showing info https://raw.githubusercontent.com/nltk/nltk_data/gh-pages/index.xml\n"
     ]
    },
    {
     "data": {
      "text/plain": [
       "True"
      ]
     },
     "execution_count": 3,
     "metadata": {},
     "output_type": "execute_result"
    }
   ],
   "source": [
    "nltk.download()"
   ]
  },
  {
   "cell_type": "code",
   "execution_count": 1,
   "metadata": {},
   "outputs": [
    {
     "name": "stdout",
     "output_type": "stream",
     "text": [
      "*** Introductory Examples for the NLTK Book ***\n",
      "Loading text1, ..., text9 and sent1, ..., sent9\n",
      "Type the name of the text or sentence to view it.\n",
      "Type: 'texts()' or 'sents()' to list the materials.\n",
      "text1: Moby Dick by Herman Melville 1851\n",
      "text2: Sense and Sensibility by Jane Austen 1811\n",
      "text3: The Book of Genesis\n",
      "text4: Inaugural Address Corpus\n",
      "text5: Chat Corpus\n",
      "text6: Monty Python and the Holy Grail\n",
      "text7: Wall Street Journal\n",
      "text8: Personals Corpus\n",
      "text9: The Man Who Was Thursday by G . K . Chesterton 1908\n"
     ]
    }
   ],
   "source": [
    "from nltk.book import *"
   ]
  },
  {
   "cell_type": "code",
   "execution_count": 44,
   "metadata": {},
   "outputs": [
    {
     "data": {
      "text/plain": [
       "[u'Abkhaz-Cyrillic+Abkh',\n",
       " u'Abkhaz-UTF8',\n",
       " u'Achehnese-Latin1',\n",
       " u'Achuar-Shiwiar-Latin1',\n",
       " u'Adja-UTF8',\n",
       " u'Afaan_Oromo_Oromiffa-Latin1',\n",
       " u'Afrikaans-Latin1',\n",
       " u'Aguaruna-Latin1',\n",
       " u'Akuapem_Twi-UTF8',\n",
       " u'Albanian_Shqip-Latin1',\n",
       " u'Amahuaca',\n",
       " u'Amahuaca-Latin1',\n",
       " u'Amarakaeri-Latin1',\n",
       " u'Amuesha-Yanesha-UTF8',\n",
       " u'Arabela-Latin1',\n",
       " u'Arabic_Alarabia-Arabic',\n",
       " u'Asante-UTF8',\n",
       " u'Ashaninca-Latin1',\n",
       " u'Asheninca-Latin1',\n",
       " u'Asturian_Bable-Latin1',\n",
       " u'Aymara-Latin1',\n",
       " u'Balinese-Latin1',\n",
       " u'Bambara-UTF8',\n",
       " u'Baoule-UTF8',\n",
       " u'Basque_Euskara-Latin1',\n",
       " u'Batonu_Bariba-UTF8',\n",
       " u'Belorus_Belaruski-Cyrillic',\n",
       " u'Belorus_Belaruski-UTF8',\n",
       " u'Bemba-Latin1',\n",
       " u'Bengali-UTF8',\n",
       " u'Beti-UTF8',\n",
       " u'Bichelamar-Latin1',\n",
       " u'Bikol_Bicolano-Latin1',\n",
       " u'Bora-Latin1',\n",
       " u'Bosnian_Bosanski-Cyrillic',\n",
       " u'Bosnian_Bosanski-Latin2',\n",
       " u'Bosnian_Bosanski-UTF8',\n",
       " u'Breton-Latin1',\n",
       " u'Bugisnese-Latin1',\n",
       " u'Bulgarian_Balgarski-Cyrillic',\n",
       " u'Bulgarian_Balgarski-UTF8',\n",
       " u'Cakchiquel-Latin1',\n",
       " u'Campa_Pajonalino-Latin1',\n",
       " u'Candoshi-Shapra-Latin1',\n",
       " u'Caquinte-Latin1',\n",
       " u'Cashibo-Cacataibo-Latin1',\n",
       " u'Cashinahua-Latin1',\n",
       " u'Catalan-Latin1',\n",
       " u'Catalan_Catala-Latin1',\n",
       " u'Cebuano-Latin1',\n",
       " u'Chamorro-Latin1',\n",
       " u'Chayahuita-Latin1',\n",
       " u'Chechewa_Nyanja-Latin1',\n",
       " u'Chickasaw-Latin1',\n",
       " u'Chinanteco-Ajitlan-Latin1',\n",
       " u'Chinanteco-UTF8',\n",
       " u'Chinese_Mandarin-GB2312',\n",
       " u'Chuuk_Trukese-Latin1',\n",
       " u'Cokwe-Latin1',\n",
       " u'Corsican-Latin1',\n",
       " u'Croatian_Hrvatski-Latin2',\n",
       " u'Czech-Latin2',\n",
       " u'Czech-UTF8',\n",
       " u'Czech_Cesky-Latin2',\n",
       " u'Czech_Cesky-UTF8',\n",
       " u'Dagaare-UTF8',\n",
       " u'Dagbani-UTF8',\n",
       " u'Dangme-UTF8',\n",
       " u'Danish_Dansk-Latin1',\n",
       " u'Dendi-UTF8',\n",
       " u'Ditammari-UTF8',\n",
       " u'Dutch_Nederlands-Latin1',\n",
       " u'Edo-Latin1',\n",
       " u'English-Latin1',\n",
       " u'Esperanto-UTF8',\n",
       " u'Estonian_Eesti-Latin1',\n",
       " u'Ewe_Eve-UTF8',\n",
       " u'Fante-UTF8',\n",
       " u'Faroese-Latin1',\n",
       " u'Farsi_Persian-UTF8',\n",
       " u'Farsi_Persian-v2-UTF8',\n",
       " u'Fijian-Latin1',\n",
       " u'Filipino_Tagalog-Latin1',\n",
       " u'Finnish_Suomi-Latin1',\n",
       " u'Fon-UTF8',\n",
       " u'French_Francais-Latin1',\n",
       " u'Frisian-Latin1',\n",
       " u'Friulian_Friulano-Latin1',\n",
       " u'Ga-UTF8',\n",
       " u'Gagauz_Gagauzi-UTF8',\n",
       " u'Galician_Galego-Latin1',\n",
       " u'Garifuna_Garifuna-Latin1',\n",
       " u'German_Deutsch-Latin1',\n",
       " u'Gonja-UTF8',\n",
       " u'Greek_Ellinika-Greek',\n",
       " u'Greek_Ellinika-UTF8',\n",
       " u'Greenlandic_Inuktikut-Latin1',\n",
       " u'Guarani-Latin1',\n",
       " u'Guen_Mina-UTF8',\n",
       " u'HaitianCreole_Kreyol-Latin1',\n",
       " u'HaitianCreole_Popular-Latin1',\n",
       " u'Hani-Latin1',\n",
       " u'Hausa_Haoussa-Latin1',\n",
       " u'Hawaiian-UTF8',\n",
       " u'Hebrew_Ivrit-Hebrew',\n",
       " u'Hebrew_Ivrit-UTF8',\n",
       " u'Hiligaynon-Latin1',\n",
       " u'Hindi-UTF8',\n",
       " u'Hindi_web-UTF8',\n",
       " u'Hmong_Miao-Sichuan-Guizhou-Yunnan-Latin1',\n",
       " u'Hmong_Miao-SouthernEast-Guizhou-Latin1',\n",
       " u'Hmong_Miao_Northern-East-Guizhou-Latin1',\n",
       " u'Hrvatski_Croatian-Latin2',\n",
       " u'Huasteco-Latin1',\n",
       " u'Huitoto_Murui-Latin1',\n",
       " u'Hungarian_Magyar-Latin1',\n",
       " u'Hungarian_Magyar-Latin2',\n",
       " u'Hungarian_Magyar-UTF8',\n",
       " u'Ibibio_Efik-Latin1',\n",
       " u'Icelandic_Yslenska-Latin1',\n",
       " u'Ido-Latin1',\n",
       " u'Igbo-UTF8',\n",
       " u'Iloko_Ilocano-Latin1',\n",
       " u'Indonesian-Latin1',\n",
       " u'Interlingua-Latin1',\n",
       " u'Inuktikut_Greenlandic-Latin1',\n",
       " u'IrishGaelic_Gaeilge-Latin1',\n",
       " u'Italian-Latin1',\n",
       " u'Italian_Italiano-Latin1',\n",
       " u'Japanese_Nihongo-EUC',\n",
       " u'Japanese_Nihongo-SJIS',\n",
       " u'Japanese_Nihongo-UTF8',\n",
       " u'Javanese-Latin1',\n",
       " u'Jola-Fogny_Diola-UTF8',\n",
       " u'Kabye-UTF8',\n",
       " u'Kannada-UTF8',\n",
       " u'Kaonde-Latin1',\n",
       " u'Kapampangan-Latin1',\n",
       " u'Kasem-UTF8',\n",
       " u'Kazakh-Cyrillic',\n",
       " u'Kazakh-UTF8',\n",
       " u'Kiche_Quiche-Latin1',\n",
       " u'Kicongo-Latin1',\n",
       " u'Kimbundu_Mbundu-Latin1',\n",
       " u'Kinyamwezi_Nyamwezi-Latin1',\n",
       " u'Kinyarwanda-Latin1',\n",
       " u'Kituba-Latin1',\n",
       " u'Korean_Hankuko-UTF8',\n",
       " u'Kpelewo-UTF8',\n",
       " u'Krio-UTF8',\n",
       " u'Kurdish-UTF8',\n",
       " u'Lamnso_Lam-nso-UTF8',\n",
       " u'Latin_Latina-Latin1',\n",
       " u'Latin_Latina-v2-Latin1',\n",
       " u'Latvian-Latin1',\n",
       " u'Limba-UTF8',\n",
       " u'Lingala-Latin1',\n",
       " u'Lithuanian_Lietuviskai-Baltic',\n",
       " u'Lozi-Latin1',\n",
       " u'Luba-Kasai_Tshiluba-Latin1',\n",
       " u'Luganda_Ganda-Latin1',\n",
       " u'Lunda_Chokwe-lunda-Latin1',\n",
       " u'Luvale-Latin1',\n",
       " u'Luxembourgish_Letzebuergeusch-Latin1',\n",
       " u'Macedonian-UTF8',\n",
       " u'Madurese-Latin1',\n",
       " u'Makonde-Latin1',\n",
       " u'Malagasy-Latin1',\n",
       " u'Malay_BahasaMelayu-Latin1',\n",
       " u'Maltese-UTF8',\n",
       " u'Mam-Latin1',\n",
       " u'Maninka-UTF8',\n",
       " u'Maori-Latin1',\n",
       " u'Mapudungun_Mapuzgun-Latin1',\n",
       " u'Mapudungun_Mapuzgun-UTF8',\n",
       " u'Marshallese-Latin1',\n",
       " u'Matses-Latin1',\n",
       " u'Mayan_Yucateco-Latin1',\n",
       " u'Mazahua_Jnatrjo-UTF8',\n",
       " u'Mazateco-Latin1',\n",
       " u'Mende-UTF8',\n",
       " u'Mikmaq_Micmac-Mikmaq-Latin1',\n",
       " u'Minangkabau-Latin1',\n",
       " u'Miskito_Miskito-Latin1',\n",
       " u'Mixteco-Latin1',\n",
       " u'Mongolian_Khalkha-Cyrillic',\n",
       " u'Mongolian_Khalkha-UTF8',\n",
       " u'Moore_More-UTF8',\n",
       " u'Nahuatl-Latin1',\n",
       " u'Ndebele-Latin1',\n",
       " u'Nepali-UTF8',\n",
       " u'Ngangela_Nyemba-Latin1',\n",
       " u'NigerianPidginEnglish-Latin1',\n",
       " u'Nomatsiguenga-Latin1',\n",
       " u'NorthernSotho_Pedi-Sepedi-Latin1',\n",
       " u'Norwegian-Latin1',\n",
       " u'Norwegian_Norsk-Bokmal-Latin1',\n",
       " u'Norwegian_Norsk-Nynorsk-Latin1',\n",
       " u'Nyanja_Chechewa-Latin1',\n",
       " u'Nyanja_Chinyanja-Latin1',\n",
       " u'Nzema-UTF8',\n",
       " u'OccitanAuvergnat-Latin1',\n",
       " u'OccitanLanguedocien-Latin1',\n",
       " u'Oromiffa_AfaanOromo-Latin1',\n",
       " u'Osetin_Ossetian-UTF8',\n",
       " u'Oshiwambo_Ndonga-Latin1',\n",
       " u'Otomi_Nahnu-Latin1',\n",
       " u'Paez-Latin1',\n",
       " u'Palauan-Latin1',\n",
       " u'Peuhl-UTF8',\n",
       " u'Picard-Latin1',\n",
       " u'Pipil-Latin1',\n",
       " u'Polish-Latin2',\n",
       " u'Polish_Polski-Latin2',\n",
       " u'Ponapean-Latin1',\n",
       " u'Portuguese_Portugues-Latin1',\n",
       " u'Pulaar-UTF8',\n",
       " u'Punjabi_Panjabi-UTF8',\n",
       " u'Purhepecha-UTF8',\n",
       " u'Qechi_Kekchi-Latin1',\n",
       " u'Quechua-Latin1',\n",
       " u'Quichua-Latin1',\n",
       " u'Rarotongan_MaoriCookIslands-Latin1',\n",
       " u'Rhaeto-Romance_Rumantsch-Latin1',\n",
       " u'Romani-Latin1',\n",
       " u'Romani-UTF8',\n",
       " u'Romanian-Latin2',\n",
       " u'Romanian_Romana-Latin2',\n",
       " u'Rukonzo_Konjo-Latin1',\n",
       " u'Rundi_Kirundi-Latin1',\n",
       " u'Runyankore-rukiga_Nkore-kiga-Latin1',\n",
       " u'Russian-Cyrillic',\n",
       " u'Russian-UTF8',\n",
       " u'Russian_Russky-Cyrillic',\n",
       " u'Russian_Russky-UTF8',\n",
       " u'Sami_Lappish-UTF8',\n",
       " u'Sammarinese-Latin1',\n",
       " u'Samoan-Latin1',\n",
       " u'Sango_Sangho-Latin1',\n",
       " u'Sanskrit-UTF8',\n",
       " u'Saraiki-UTF8',\n",
       " u'Sardinian-Latin1',\n",
       " u'ScottishGaelic_GaidhligAlbanach-Latin1',\n",
       " u'Seereer-UTF8',\n",
       " u'Serbian_Srpski-Cyrillic',\n",
       " u'Serbian_Srpski-Latin2',\n",
       " u'Serbian_Srpski-UTF8',\n",
       " u'Sharanahua-Latin1',\n",
       " u'Shipibo-Conibo-Latin1',\n",
       " u'Shona-Latin1',\n",
       " u'Sinhala-UTF8',\n",
       " u'Siswati-Latin1',\n",
       " u'Slovak-Latin2',\n",
       " u'Slovak_Slovencina-Latin2',\n",
       " u'Slovenian_Slovenscina-Latin2',\n",
       " u'SolomonsPidgin_Pijin-Latin1',\n",
       " u'Somali-Latin1',\n",
       " u'Soninke_Soninkanxaane-UTF8',\n",
       " u'Sorbian-Latin2',\n",
       " u'SouthernSotho_Sotho-Sesotho-Sutu-Sesutu-Latin1',\n",
       " u'Spanish-Latin1',\n",
       " u'Spanish_Espanol-Latin1',\n",
       " u'Sukuma-Latin1',\n",
       " u'Sundanese-Latin1',\n",
       " u'Sussu_Soussou-Sosso-Soso-Susu-UTF8',\n",
       " u'Swaheli-Latin1',\n",
       " u'Swahili_Kiswahili-Latin1',\n",
       " u'Swedish_Svenska-Latin1',\n",
       " u'Tahitian-UTF8',\n",
       " u'Tenek_Huasteco-Latin1',\n",
       " u'Tetum-Latin1',\n",
       " u'Themne_Temne-UTF8',\n",
       " u'Tiv-Latin1',\n",
       " u'Toba-UTF8',\n",
       " u'Tojol-abal-Latin1',\n",
       " u'TokPisin-Latin1',\n",
       " u'Tonga-Latin1',\n",
       " u'Tongan_Tonga-Latin1',\n",
       " u'Totonaco-Latin1',\n",
       " u'Trukese_Chuuk-Latin1',\n",
       " u'Turkish_Turkce-Turkish',\n",
       " u'Turkish_Turkce-UTF8',\n",
       " u'Tzeltal-Latin1',\n",
       " u'Tzotzil-Latin1',\n",
       " u'Uighur_Uyghur-Latin1',\n",
       " u'Uighur_Uyghur-UTF8',\n",
       " u'Ukrainian-Cyrillic',\n",
       " u'Ukrainian-UTF8',\n",
       " u'Umbundu-Latin1',\n",
       " u'Urarina-Latin1',\n",
       " u'Uzbek-Latin1',\n",
       " u'Vietnamese-ALRN-UTF8',\n",
       " u'Vietnamese-UTF8',\n",
       " u'Vlach-Latin1',\n",
       " u'Walloon_Wallon-Latin1',\n",
       " u'Wama-UTF8',\n",
       " u'Waray-Latin1',\n",
       " u'Wayuu-Latin1',\n",
       " u'Welsh_Cymraeg-Latin1',\n",
       " u'WesternSotho_Tswana-Setswana-Latin1',\n",
       " u'Wolof-Latin1',\n",
       " u'Xhosa-Latin1',\n",
       " u'Yagua-Latin1',\n",
       " u'Yao-Latin1',\n",
       " u'Yapese-Latin1',\n",
       " u'Yoruba-UTF8',\n",
       " u'Zapoteco-Latin1',\n",
       " u'Zapoteco-SanLucasQuiavini-Latin1',\n",
       " u'Zhuang-Latin1',\n",
       " u'Zulu-Latin1']"
      ]
     },
     "execution_count": 44,
     "metadata": {},
     "output_type": "execute_result"
    }
   ],
   "source": [
    "from nltk.corpus import udhr\n",
    "udhr.fileids()\n"
   ]
  },
  {
   "cell_type": "code",
   "execution_count": 62,
   "metadata": {
    "collapsed": true
   },
   "outputs": [],
   "source": [
    "tokens_English = nltk.word_tokenize(udhr.raw('English-Latin1'))\n",
    "tokens_Edo = nltk.word_tokenize(udhr.raw('Edo-Latin1'))\n",
    "tokens_Dutch = nltk.word_tokenize(udhr.raw('Dutch_Nederlands-Latin1'))\n",
    "tokens_French = nltk.word_tokenize(udhr.raw('French_Francais-Latin1'))\n",
    "tokens_Frisian = nltk.word_tokenize(udhr.raw('Frisian-Latin1'))"
   ]
  },
  {
   "cell_type": "code",
   "execution_count": null,
   "metadata": {
    "collapsed": true
   },
   "outputs": [],
   "source": [
    "##number of words in each language (count words)"
   ]
  },
  {
   "cell_type": "code",
   "execution_count": 121,
   "metadata": {},
   "outputs": [
    {
     "name": "stdout",
     "output_type": "stream",
     "text": [
      "Number of words in English: 1771 Edo: 2241 Dutch: 1694 French: 1773 Frisian: 1811\n"
     ]
    }
   ],
   "source": [
    "print 'Number of words in English:', len(tokens_English), 'Edo:', len(tokens_Edo), 'Dutch:', len(tokens_Dutch), 'French:', len(tokens_French), 'Frisian:', len(tokens_Frisian)"
   ]
  },
  {
   "cell_type": "code",
   "execution_count": 82,
   "metadata": {
    "collapsed": true
   },
   "outputs": [],
   "source": [
    "##unique words\n",
    "uniqueEnglish = sorted(set(tokens_English))\n",
    "uniqueEdo = sorted(set(tokens_Edo))\n",
    "uniqueDutch = sorted(set(tokens_Dutch))\n",
    "uniqueFrench = sorted(set(tokens_French))\n",
    "uniqueFrisian = sorted(set(tokens_Frisian))"
   ]
  },
  {
   "cell_type": "code",
   "execution_count": 115,
   "metadata": {},
   "outputs": [
    {
     "name": "stdout",
     "output_type": "stream",
     "text": [
      "unique words: English: 530 Edo: 455 Dutch: 526 French: 583 Frisian: 558\n"
     ]
    }
   ],
   "source": [
    "print'Unique words: English:', str(len(uniqueEnglish)), 'Edo:', str(len(uniqueEdo)), 'Dutch:', str(len(uniqueDutch)), 'French:', str(len(uniqueFrench)), 'Frisian:', str(len(uniqueFrisian))"
   ]
  },
  {
   "cell_type": "code",
   "execution_count": 76,
   "metadata": {
    "collapsed": true
   },
   "outputs": [],
   "source": [
    "##average length of words (average characters per word)\n",
    "averageEnglish = sum(len(word) for word in tokens_English) / len(tokens_English)\n",
    "averageEdo = sum(len(word) for word in tokens_Edo) / len(tokens_Edo)\n",
    "averageDutch = sum(len(word) for word in tokens_Dutch) / len(tokens_Dutch)\n",
    "averageFrench = sum(len(word) for word in tokens_French) / len(tokens_French)\n",
    "averageFrisian = sum(len(word) for word in tokens_Frisian) / len(tokens_Frisian)"
   ]
  },
  {
   "cell_type": "code",
   "execution_count": 119,
   "metadata": {},
   "outputs": [
    {
     "name": "stdout",
     "output_type": "stream",
     "text": [
      "Average length of words: English: 4 Edo: 3 Dutch: 4 French: 4 Frisian: 4\n"
     ]
    }
   ],
   "source": [
    "print 'Average length of words: English:', averageEnglish, 'Edo:', averageEdo, 'Dutch:', averageDutch, 'French:',averageFrench, 'Frisian:',  averageFrisian"
   ]
  },
  {
   "cell_type": "code",
   "execution_count": 96,
   "metadata": {
    "collapsed": true
   },
   "outputs": [],
   "source": [
    "##number of sentences in UDHR (Whats the purpose of finding sentences in UDHR? UDHR has multiple files inside it)\n",
    "sents=udhr.sents()"
   ]
  },
  {
   "cell_type": "code",
   "execution_count": null,
   "metadata": {
    "collapsed": true
   },
   "outputs": [],
   "source": [
    "##number of sentences in each language"
   ]
  },
  {
   "cell_type": "code",
   "execution_count": 98,
   "metadata": {
    "collapsed": true
   },
   "outputs": [],
   "source": [
    "sentsEnglish = udhr.sents('English-Latin1')\n",
    "sentsEdo = udhr.sents('Edo-Latin1')\n",
    "sentsDutch = udhr.sents('Dutch_Nederlands-Latin1')\n",
    "sentsFrench = udhr.sents('French_Francais-Latin1')\n",
    "sentsFrisian = udhr.sents('Frisian-Latin1')"
   ]
  },
  {
   "cell_type": "code",
   "execution_count": 120,
   "metadata": {},
   "outputs": [
    {
     "name": "stdout",
     "output_type": "stream",
     "text": [
      "Number of sentences in English: 67 Edo: 70 Dutch: 46 French: 57 Frisian: 74\n"
     ]
    }
   ],
   "source": [
    "print 'Number of sentences in English:', len(sentsEnglish), 'Edo:', len(sentsEdo), 'Dutch:', len(sentsDutch), 'French:', len(sentsFrench), 'Frisian:', len(sentsFrisian)"
   ]
  },
  {
   "cell_type": "code",
   "execution_count": 77,
   "metadata": {
    "collapsed": true
   },
   "outputs": [],
   "source": [
    "##average number of words per sentence"
   ]
  },
  {
   "cell_type": "code",
   "execution_count": 123,
   "metadata": {
    "collapsed": true
   },
   "outputs": [],
   "source": [
    "wpsEnglish = round(len(tokens_English)/len(sentsEnglish))\n",
    "wpsEdo = round(len(tokens_Edo)/len(sentsEdo))\n",
    "wpsDutch = round(len(tokens_Dutch)/len(sentsDutch))\n",
    "wpsFrench = round(len(tokens_French)/len(sentsFrench))\n",
    "wpsFrisian = round(len(tokens_Frisian)/len(sentsFrisian))"
   ]
  },
  {
   "cell_type": "code",
   "execution_count": 125,
   "metadata": {},
   "outputs": [
    {
     "name": "stdout",
     "output_type": "stream",
     "text": [
      "Average number of words per sentence in English: 26.0 Edo: 32.0 Dutch: 36.0 French: 31.0 Frisian: 24.0\n"
     ]
    }
   ],
   "source": [
    "print 'Average number of words per sentence in English:', wpsEnglish, 'Edo:', wpsEdo, 'Dutch:', wpsDutch, 'French:', wpsFrench, 'Frisian:', wpsFrisian"
   ]
  },
  {
   "cell_type": "code",
   "execution_count": 15,
   "metadata": {},
   "outputs": [
    {
     "data": {
      "text/html": [
       "<div>\n",
       "<style>\n",
       "    .dataframe thead tr:only-child th {\n",
       "        text-align: right;\n",
       "    }\n",
       "\n",
       "    .dataframe thead th {\n",
       "        text-align: left;\n",
       "    }\n",
       "\n",
       "    .dataframe tbody tr th {\n",
       "        vertical-align: top;\n",
       "    }\n",
       "</style>\n",
       "<table border=\"1\" class=\"dataframe\">\n",
       "  <thead>\n",
       "    <tr style=\"text-align: right;\">\n",
       "      <th></th>\n",
       "      <th>Title</th>\n",
       "      <th>nwords</th>\n",
       "      <th>nuniquewords</th>\n",
       "      <th>navgwords</th>\n",
       "      <th>nsents</th>\n",
       "      <th>nwps</th>\n",
       "    </tr>\n",
       "  </thead>\n",
       "  <tbody>\n",
       "    <tr>\n",
       "      <th>0</th>\n",
       "      <td>English</td>\n",
       "      <td>1781</td>\n",
       "      <td>533</td>\n",
       "      <td>5.0</td>\n",
       "      <td>67</td>\n",
       "      <td>26.0</td>\n",
       "    </tr>\n",
       "    <tr>\n",
       "      <th>1</th>\n",
       "      <td>Edo</td>\n",
       "      <td>2382</td>\n",
       "      <td>452</td>\n",
       "      <td>4.0</td>\n",
       "      <td>70</td>\n",
       "      <td>34.0</td>\n",
       "    </tr>\n",
       "    <tr>\n",
       "      <th>2</th>\n",
       "      <td>Dutch_Nederlands</td>\n",
       "      <td>1698</td>\n",
       "      <td>527</td>\n",
       "      <td>5.0</td>\n",
       "      <td>46</td>\n",
       "      <td>36.0</td>\n",
       "    </tr>\n",
       "    <tr>\n",
       "      <th>3</th>\n",
       "      <td>French_Francais</td>\n",
       "      <td>1935</td>\n",
       "      <td>567</td>\n",
       "      <td>5.0</td>\n",
       "      <td>57</td>\n",
       "      <td>33.0</td>\n",
       "    </tr>\n",
       "    <tr>\n",
       "      <th>4</th>\n",
       "      <td>Frisian</td>\n",
       "      <td>1878</td>\n",
       "      <td>558</td>\n",
       "      <td>5.0</td>\n",
       "      <td>74</td>\n",
       "      <td>25.0</td>\n",
       "    </tr>\n",
       "  </tbody>\n",
       "</table>\n",
       "</div>"
      ],
      "text/plain": [
       "              Title  nwords  nuniquewords  navgwords  nsents  nwps\n",
       "0           English    1781           533        5.0      67  26.0\n",
       "1               Edo    2382           452        4.0      70  34.0\n",
       "2  Dutch_Nederlands    1698           527        5.0      46  36.0\n",
       "3   French_Francais    1935           567        5.0      57  33.0\n",
       "4           Frisian    1878           558        5.0      74  25.0"
      ]
     },
     "execution_count": 15,
     "metadata": {},
     "output_type": "execute_result"
    }
   ],
   "source": [
    "import pandas as pd\n",
    "from nltk.corpus import udhr\n",
    "languages  = ['English', 'Edo', 'Dutch_Nederlands', 'French_Francais', 'Frisian']\n",
    "np_object=[]\n",
    "for lang in languages:\n",
    "    nwords = len(udhr.words(lang + '-Latin1'))\n",
    "    nuniquewords = len(sorted(set(udhr.words(lang + '-Latin1'))))\n",
    "    nsents = len(udhr.sents(lang + '-Latin1'))\n",
    "    x= [lang,\n",
    "        nwords,\n",
    "        nuniquewords,\n",
    "        round(num_chars/nwords),\n",
    "        nsents,\n",
    "        round(nwords/nsents), \n",
    "       ]\n",
    "    np_object.append(x)\n",
    "\n",
    "df= pd.DataFrame(np_object, columns=['Title','nwords','nuniquewords','navgwords','nsents','nwps'])\n",
    "df"
   ]
  },
  {
   "cell_type": "code",
   "execution_count": 130,
   "metadata": {},
   "outputs": [
    {
     "data": {
      "image/png": "[encoded data removed]",
      "text/plain": [
       "<matplotlib.figure.Figure at 0x16e45320>"
      ]
     },
     "metadata": {},
     "output_type": "display_data"
    }
   ],
   "source": [
    "from nltk.corpus import udhr\n",
    "languages  = ['English', 'Edo', 'Dutch_Nederlands', 'French_Francais', 'Frisian']\n",
    "cfd=nltk.ConditionalFreqDist(\n",
    "        (lang, len(sents))\n",
    "        for lang in languages\n",
    "        for sents in udhr.sents(lang + '-Latin1'))\n",
    "cfd.plot(cumulative=False)"
   ]
  },
  {
   "cell_type": "code",
   "execution_count": null,
   "metadata": {
    "collapsed": true
   },
   "outputs": [],
   "source": [
    "##Question 2"
   ]
  },
  {
   "cell_type": "code",
   "execution_count": 82,
   "metadata": {},
   "outputs": [
    {
     "name": "stdout",
     "output_type": "stream",
     "text": [
      "\n",
      "           Top 10 words in Inauguaral Corpus-- ignores case and non-alpha chars\n",
      "  government     citizens constitution     national     american     congress    interests    political    executive   principles \n",
      "         593          237          205          154          147          129          113          106           97           93 \n",
      "\n",
      "\n"
     ]
    }
   ],
   "source": [
    "###10 most frequenly used words longer than 7 characters\n",
    "inaugural_corpus=text4\n",
    "word_extract=[word.lower() for word in inaugural_corpus if (len(word)>7 and word.isalpha())]\n",
    "word_frequency=FreqDist(word_extract)\n",
    "print(\"\\n           Top 10 words in Inauguaral Corpus-- ignores case and non-alpha chars\")\n",
    "word_frequency.tabulate(10)\n",
    "print(\"\\n\")"
   ]
  },
  {
   "cell_type": "code",
   "execution_count": 43,
   "metadata": {},
   "outputs": [
    {
     "name": "stdout",
     "output_type": "stream",
     "text": [
      "people country union world nation constitution time life peace power\n",
      "war congress states law freedom laws executive duty liberty future\n"
     ]
    }
   ],
   "source": [
    "###List all synonyms for those 10 words (in text4 context)\n",
    "text4.similar(\"government\")"
   ]
  },
  {
   "cell_type": "code",
   "execution_count": 33,
   "metadata": {},
   "outputs": [
    {
     "name": "stdout",
     "output_type": "stream",
     "text": [
      "country government people union men power time nation institutions\n",
      "progress rights prosperity peace happiness strength americans all\n",
      "children countrymen labor\n"
     ]
    }
   ],
   "source": [
    "text4.similar(\"citizens\")"
   ]
  },
  {
   "cell_type": "code",
   "execution_count": 34,
   "metadata": {},
   "outputs": [
    {
     "name": "stdout",
     "output_type": "stream",
     "text": [
      "government people country world union nation states time executive war\n",
      "laws law republic land president way spirit system revenue future\n"
     ]
    }
   ],
   "source": [
    "text4.similar(\"constitution\")"
   ]
  },
  {
   "cell_type": "code",
   "execution_count": 35,
   "metadata": {},
   "outputs": [
    {
     "name": "stdout",
     "output_type": "stream",
     "text": [
      "public the our great own federal this new common its general a\n",
      "domestic government one political greatest international executive\n",
      "progress\n"
     ]
    }
   ],
   "source": [
    "text4.similar(\"national\")"
   ]
  },
  {
   "cell_type": "code",
   "execution_count": 36,
   "metadata": {},
   "outputs": [
    {
     "name": "stdout",
     "output_type": "stream",
     "text": [
      "the our human great their its domestic essential old individual free\n",
      "freedom united war citizen this his man dollar agricultural\n"
     ]
    }
   ],
   "source": [
    "text4.similar(\"american\")"
   ]
  },
  {
   "cell_type": "code",
   "execution_count": 37,
   "metadata": {},
   "outputs": [
    {
     "name": "stdout",
     "output_type": "stream",
     "text": [
      "government peace war them freedom life all law union time world states\n",
      "justice power country it america us which liberty\n"
     ]
    }
   ],
   "source": [
    "text4.similar(\"congress\")"
   ]
  },
  {
   "cell_type": "code",
   "execution_count": 38,
   "metadata": {},
   "outputs": [
    {
     "name": "stdout",
     "output_type": "stream",
     "text": [
      "people government duties resources country interest institutions\n",
      "freedom rights wisdom strength security support constitution nation\n",
      "prosperity laws peace power system\n"
     ]
    }
   ],
   "source": [
    "text4.similar(\"interests\")"
   ]
  },
  {
   "cell_type": "code",
   "execution_count": 39,
   "metadata": {},
   "outputs": [
    {
     "name": "stdout",
     "output_type": "stream",
     "text": [
      "the our their all those public its free industrial constitutional that\n",
      "national equal party domestic human change great social private\n"
     ]
    }
   ],
   "source": [
    "text4.similar(\"political\")"
   ]
  },
  {
   "cell_type": "code",
   "execution_count": 40,
   "metadata": {},
   "outputs": [
    {
     "name": "stdout",
     "output_type": "stream",
     "text": [
      "government people world union country constitution nation states law\n",
      "war earth time future laws congress spirit power president principles\n",
      "duty\n"
     ]
    }
   ],
   "source": [
    "text4.similar(\"executive\")"
   ]
  },
  {
   "cell_type": "code",
   "execution_count": 41,
   "metadata": {},
   "outputs": [
    {
     "name": "stdout",
     "output_type": "stream",
     "text": [
      "government country union people states world strength duties\n",
      "constitution nation executive power work mind principle spirit\n",
      "congress faith peace state\n"
     ]
    }
   ],
   "source": [
    "text4.similar(\"principles\")"
   ]
  },
  {
   "cell_type": "code",
   "execution_count": 123,
   "metadata": {},
   "outputs": [
    {
     "name": "stdout",
     "output_type": "stream",
     "text": [
      "<bound method Synset.lemma_names of Synset('government.n.01')>\n",
      "<bound method Synset.lemma_names of Synset('government.n.02')>\n",
      "<bound method Synset.lemma_names of Synset('government.n.03')>\n",
      "<bound method Synset.lemma_names of Synset('politics.n.02')>\n"
     ]
    }
   ],
   "source": [
    "###List all synonyms for those 10 words (proper way to answer the question, I think)\n",
    "### GOVERNMENT\n",
    "from nltk.corpus import wordnet as wn\n",
    "wn.synsets('government')\n",
    "for synset in wn.synsets('government'):\n",
    "     print synset.lemma_names\n"
   ]
  },
  {
   "cell_type": "code",
   "execution_count": 124,
   "metadata": {},
   "outputs": [
    {
     "name": "stdout",
     "output_type": "stream",
     "text": [
      "<bound method Synset.lemma_names of Synset('citizen.n.01')>\n"
     ]
    }
   ],
   "source": [
    "### CITIZENS\n",
    "wn.synsets('citizens')\n",
    "for synset in wn.synsets('citizens'):\n",
    "    print synset.lemma_names"
   ]
  },
  {
   "cell_type": "code",
   "execution_count": 95,
   "metadata": {},
   "outputs": [
    {
     "name": "stdout",
     "output_type": "stream",
     "text": [
      "<bound method Synset.lemma_names of Synset('fundamental_law.n.01')>\n",
      "<bound method Synset.lemma_names of Synset('constitution.n.02')>\n",
      "<bound method Synset.lemma_names of Synset('united_states_constitution.n.01')>\n",
      "<bound method Synset.lemma_names of Synset('constitution.n.04')>\n",
      "<bound method Synset.lemma_names of Synset('constitution.n.05')>\n"
     ]
    }
   ],
   "source": [
    "### CONSTITUTION\n",
    "wn.synsets('constitution')\n",
    "for synset in wn.synsets('constitution'):\n",
    "    print synset.lemma_names"
   ]
  },
  {
   "cell_type": "code",
   "execution_count": 96,
   "metadata": {},
   "outputs": [
    {
     "name": "stdout",
     "output_type": "stream",
     "text": [
      "<bound method Synset.lemma_names of Synset('national.n.01')>\n",
      "<bound method Synset.lemma_names of Synset('national.a.01')>\n",
      "<bound method Synset.lemma_names of Synset('national.a.02')>\n",
      "<bound method Synset.lemma_names of Synset('national.a.03')>\n",
      "<bound method Synset.lemma_names of Synset('national.s.04')>\n",
      "<bound method Synset.lemma_names of Synset('home.s.03')>\n",
      "<bound method Synset.lemma_names of Synset('national.a.06')>\n",
      "<bound method Synset.lemma_names of Synset('national.a.07')>\n"
     ]
    }
   ],
   "source": [
    "### NATIONAL \n",
    "wn.synsets('national')\n",
    "for synset in wn.synsets('national'):\n",
    "    print synset.lemma_names"
   ]
  },
  {
   "cell_type": "code",
   "execution_count": 97,
   "metadata": {},
   "outputs": [
    {
     "name": "stdout",
     "output_type": "stream",
     "text": [
      "<bound method Synset.lemma_names of Synset('american.n.01')>\n",
      "<bound method Synset.lemma_names of Synset('american_english.n.01')>\n",
      "<bound method Synset.lemma_names of Synset('american.n.03')>\n",
      "<bound method Synset.lemma_names of Synset('american.a.01')>\n",
      "<bound method Synset.lemma_names of Synset('american.a.02')>\n"
     ]
    }
   ],
   "source": [
    "### AMERICAN\n",
    "wn.synsets('american')\n",
    "for synset in wn.synsets('american'):\n",
    "    print synset.lemma_names"
   ]
  },
  {
   "cell_type": "code",
   "execution_count": 159,
   "metadata": {},
   "outputs": [
    {
     "name": "stdout",
     "output_type": "stream",
     "text": [
      "<bound method Synset.lemma_names of Synset('congress.n.01')>\n",
      "<bound method Synset.lemma_names of Synset('congress.n.02')>\n",
      "<bound method Synset.lemma_names of Synset('congress.n.03')>\n",
      "<bound method Synset.lemma_names of Synset('sexual_intercourse.n.01')>\n"
     ]
    }
   ],
   "source": [
    "### CONGRESS\n",
    "wn.synsets('congress')\n",
    "for synset in wn.synsets('congress'):\n",
    "    print synset.lemma_names"
   ]
  },
  {
   "cell_type": "code",
   "execution_count": 79,
   "metadata": {},
   "outputs": [
    {
     "data": {
      "text/plain": [
       "[Synset('interest.n.01'),\n",
       " Synset('sake.n.01'),\n",
       " Synset('interest.n.03'),\n",
       " Synset('interest.n.04'),\n",
       " Synset('interest.n.05'),\n",
       " Synset('interest.n.06'),\n",
       " Synset('pastime.n.01'),\n",
       " Synset('interest.v.01'),\n",
       " Synset('concern.v.02'),\n",
       " Synset('matter_to.v.01')]"
      ]
     },
     "execution_count": 79,
     "metadata": {},
     "output_type": "execute_result"
    }
   ],
   "source": [
    "### INTEREST\n",
    "wn.synsets('interest')\n",
    "for synset in wn.synsets('interest'):\n",
    "    print synset.lemma_names"
   ]
  },
  {
   "cell_type": "code",
   "execution_count": 99,
   "metadata": {},
   "outputs": [
    {
     "name": "stdout",
     "output_type": "stream",
     "text": [
      "<bound method Synset.lemma_names of Synset('political.a.01')>\n",
      "<bound method Synset.lemma_names of Synset('political.a.02')>\n",
      "<bound method Synset.lemma_names of Synset('political.a.03')>\n"
     ]
    }
   ],
   "source": [
    "### POLITICAL\n",
    "wn.synsets('political')\n",
    "for synset in wn.synsets('political'):\n",
    "    print synset.lemma_names"
   ]
  },
  {
   "cell_type": "code",
   "execution_count": 100,
   "metadata": {},
   "outputs": [
    {
     "name": "stdout",
     "output_type": "stream",
     "text": [
      "<bound method Synset.lemma_names of Synset('executive.n.01')>\n",
      "<bound method Synset.lemma_names of Synset('executive.n.02')>\n",
      "<bound method Synset.lemma_names of Synset('administrator.n.03')>\n",
      "<bound method Synset.lemma_names of Synset('executive.a.01')>\n"
     ]
    }
   ],
   "source": [
    "### EXECUTIVE\n",
    "wn.synsets('executive')\n",
    "for synset in wn.synsets('executive'):\n",
    "    print synset.lemma_names"
   ]
  },
  {
   "cell_type": "code",
   "execution_count": 125,
   "metadata": {},
   "outputs": [
    {
     "name": "stdout",
     "output_type": "stream",
     "text": [
      "<bound method Synset.lemma_names of Synset('principle.n.01')>\n",
      "<bound method Synset.lemma_names of Synset('principle.n.02')>\n",
      "<bound method Synset.lemma_names of Synset('principle.n.03')>\n",
      "<bound method Synset.lemma_names of Synset('principle.n.04')>\n",
      "<bound method Synset.lemma_names of Synset('principle.n.05')>\n",
      "<bound method Synset.lemma_names of Synset('rationale.n.01')>\n"
     ]
    }
   ],
   "source": [
    "### PRINCIPLES\n",
    "wn.synsets('principles')\n",
    "for synset in wn.synsets('principles'):\n",
    "    print synset.lemma_names"
   ]
  },
  {
   "cell_type": "code",
   "execution_count": null,
   "metadata": {
    "collapsed": true
   },
   "outputs": [],
   "source": [
    "###List all hyponyms for those 10 words \n",
    "### GOVERNMENT"
   ]
  },
  {
   "cell_type": "code",
   "execution_count": 156,
   "metadata": {},
   "outputs": [
    {
     "name": "stdout",
     "output_type": "stream",
     "text": [
      "[Synset('ancien_regime.n.01'), Synset('authoritarian_state.n.01'), Synset('bureaucracy.n.02'), Synset('court.n.03'), Synset('downing_street.n.02'), Synset('empire.n.02'), Synset('federal_government.n.01'), Synset('government-in-exile.n.01'), Synset('local_government.n.01'), Synset('military_government.n.01'), Synset('palace.n.02'), Synset('papacy.n.01'), Synset('puppet_government.n.01'), Synset('state.n.03'), Synset('state_government.n.01'), Synset('totalitarian_state.n.01')] [Synset('legislation.n.02'), Synset('misgovernment.n.01'), Synset('trust_busting.n.01')] [] [Synset('geopolitics.n.01'), Synset('realpolitik.n.01')]\n"
     ]
    }
   ],
   "source": [
    "government1 = wn.synset('government.n.01').hyponyms()\n",
    "government2 = wn.synset('government.n.02').hyponyms()\n",
    "government3 = wn.synset('government.n.03').hyponyms()\n",
    "government4 = wn.synset('politics.n.02').hyponyms()\n",
    "print government1, government2, government3, government4"
   ]
  },
  {
   "cell_type": "code",
   "execution_count": null,
   "metadata": {
    "collapsed": true
   },
   "outputs": [],
   "source": [
    "### CITIZENS"
   ]
  },
  {
   "cell_type": "code",
   "execution_count": 134,
   "metadata": {},
   "outputs": [
    {
     "name": "stdout",
     "output_type": "stream",
     "text": [
      "[Synset('active_citizen.n.01'), Synset('civilian.n.01'), Synset('freeman.n.01'), Synset('private_citizen.n.01'), Synset('repatriate.n.01'), Synset('thane.n.02'), Synset('voter.n.01')]\n"
     ]
    }
   ],
   "source": [
    "citizen = wn.synset('citizen.n.01')\n",
    "hyponym_citizen = citizen.hyponyms()\n",
    "print hyponym_citizen"
   ]
  },
  {
   "cell_type": "code",
   "execution_count": 154,
   "metadata": {},
   "outputs": [
    {
     "name": "stdout",
     "output_type": "stream",
     "text": [
      "[] [Synset('collectivization.n.01'), Synset('colonization.n.01'), Synset('communization.n.02'), Synset('federation.n.03'), Synset('unionization.n.01')] [] [Synset('genotype.n.02'), Synset('karyotype.n.01'), Synset('phenotype.n.01'), Synset('structure.n.02'), Synset('texture.n.05')] [] []\n"
     ]
    }
   ],
   "source": [
    "### CONSTITUTION\n",
    "constitution1 = wn.synset('fundamental_law.n.01').hyponyms()\n",
    "constitution2 = wn.synset('constitution.n.02').hyponyms()\n",
    "constitution3 = wn.synset('constitution.n.03').hyponyms()\n",
    "constitution4 = wn.synset('constitution.n.04').hyponyms()\n",
    "constitution5 = wn.synset('constitution.n.05').hyponyms()\n",
    "constitution6 = wn.synset('united_states_constitution.n.01').hyponyms()\n",
    "print constitution1, constitution2, constitution3, constitution4, constitution5, constitution6"
   ]
  },
  {
   "cell_type": "code",
   "execution_count": 155,
   "metadata": {},
   "outputs": [
    {
     "name": "stdout",
     "output_type": "stream",
     "text": [
      "[Synset('citizen.n.01'), Synset('compatriot.n.01'), Synset('patriot.n.01')] [] [] [] [] [] [] []\n"
     ]
    }
   ],
   "source": [
    "### NATIONAL\n",
    "national1 = wn.synset('national.n.01').hyponyms()\n",
    "national2 = wn.synset('national.a.01').hyponyms()\n",
    "national3 = wn.synset('national.a.02').hyponyms()\n",
    "national4 = wn.synset('national.a.03').hyponyms()\n",
    "national5 = wn.synset('national.a.04').hyponyms()\n",
    "national6 = wn.synset('home.s.03').hyponyms()\n",
    "national7 = wn.synset('national.a.06').hyponyms()\n",
    "national8 = wn.synset('national.a.07').hyponyms()\n",
    "print national1, national2, national3, national4, national5, national6, national7, national8"
   ]
  },
  {
   "cell_type": "code",
   "execution_count": 157,
   "metadata": {},
   "outputs": [
    {
     "name": "stdout",
     "output_type": "stream",
     "text": [
      "[Synset('african-american.n.01'), Synset('alabaman.n.01'), Synset('alaskan.n.01'), Synset('anglo-american.n.01'), Synset('appalachian.n.01'), Synset('arizonan.n.01'), Synset('arkansan.n.01'), Synset('asian_american.n.01'), Synset('bay_stater.n.01'), Synset('bostonian.n.01'), Synset('californian.n.01'), Synset('carolinian.n.01'), Synset('coloradan.n.01'), Synset('connecticuter.n.01'), Synset('creole.n.02'), Synset('delawarean.n.01'), Synset('floridian.n.01'), Synset('franco-american.n.01'), Synset('georgian.n.01'), Synset('german_american.n.01'), Synset('hawaiian.n.02'), Synset('idahoan.n.01'), Synset('illinoisan.n.01'), Synset('indianan.n.01'), Synset('iowan.n.01'), Synset('kansan.n.01'), Synset('kentuckian.n.01'), Synset('louisianan.n.01'), Synset('mainer.n.01'), Synset('marylander.n.01'), Synset('michigander.n.01'), Synset('minnesotan.n.01'), Synset('mississippian.n.02'), Synset('missourian.n.01'), Synset('montanan.n.01'), Synset('nebraskan.n.01'), Synset('nevadan.n.01'), Synset('new_englander.n.01'), Synset('new_hampshirite.n.01'), Synset('new_jerseyan.n.01'), Synset('new_mexican.n.01'), Synset('new_yorker.n.01'), Synset('nisei.n.01'), Synset('north_carolinian.n.01'), Synset('north_dakotan.n.01'), Synset('ohioan.n.01'), Synset('oklahoman.n.01'), Synset('oregonian.n.01'), Synset('pennsylvanian.n.02'), Synset('puerto_rican.n.01'), Synset('rhode_islander.n.01'), Synset('south_carolinian.n.01'), Synset('south_dakotan.n.01'), Synset('southerner.n.01'), Synset('spanish_american.n.01'), Synset('tennessean.n.01'), Synset('texan.n.01'), Synset('tory.n.01'), Synset('utahan.n.01'), Synset('vermonter.n.01'), Synset('virginian.n.01'), Synset('washingtonian.n.01'), Synset('washingtonian.n.02'), Synset('west_virginian.n.01'), Synset('wisconsinite.n.01'), Synset('wyomingite.n.01'), Synset('yankee.n.01'), Synset('yankee.n.03')] [Synset('african_american_vernacular_english.n.01')] [] []\n"
     ]
    }
   ],
   "source": [
    "### AMERICAN\n",
    "american1 = wn.synset('american.n.01').hyponyms()\n",
    "american2 = wn.synset('american_english.n.01').hyponyms()\n",
    "american3 = wn.synset('american.n.03').hyponyms()\n",
    "american4 = wn.synset('american.a.01').hyponyms()\n",
    "american5 = wn.synset('american.a.02').hyponyms()\n",
    "print american1, american2, american4, american5"
   ]
  },
  {
   "cell_type": "code",
   "execution_count": 158,
   "metadata": {},
   "outputs": [
    {
     "name": "stdout",
     "output_type": "stream",
     "text": [
      "[] [Synset('continental_congress.n.01')] []\n"
     ]
    }
   ],
   "source": [
    "### CONGRESS\n",
    "congress1 = wn.synset('congress.n.01').hyponyms()\n",
    "congress2 = wn.synset('congress.n.02').hyponyms()\n",
    "congress3 = wn.synset('congress.n.03').hyponyms()\n",
    "print congress1, congress2, congress3"
   ]
  },
  {
   "cell_type": "code",
   "execution_count": 160,
   "metadata": {},
   "outputs": [
    {
     "name": "stdout",
     "output_type": "stream",
     "text": [
      "[Synset('concern.n.01'), Synset('enthusiasm.n.03')] [Synset('behalf.n.02')] [Synset('charisma.n.01'), Synset('color.n.02'), Synset('newsworthiness.n.01'), Synset('shrillness.n.01'), Synset('topicality.n.01')] [Synset('compound_interest.n.01'), Synset('simple_interest.n.01')] [Synset('controlling_interest.n.01'), Synset('equity.n.02'), Synset('fee.n.02'), Synset('grubstake.n.01'), Synset('insurable_interest.n.01'), Synset('reversion.n.01'), Synset('right.n.08'), Synset('security_interest.n.01'), Synset('terminable_interest.n.01'), Synset('undivided_interest.n.01'), Synset('vested_interest.n.01')] [Synset('special_interest.n.01'), Synset('vested_interest.n.02')] [Synset('avocation.n.01')] [Synset('absorb.v.09'), Synset('fascinate.v.02')] [] [Synset('intrigue.v.01')]\n"
     ]
    }
   ],
   "source": [
    "### INTEREST\n",
    "interest1 = wn.synset('interest.n.01').hyponyms()\n",
    "interest2 = wn.synset('sake.n.01').hyponyms()\n",
    "interest3 = wn.synset('interest.n.03').hyponyms()\n",
    "interest4 = wn.synset('interest.n.04').hyponyms()\n",
    "interest5 = wn.synset('interest.n.05').hyponyms()\n",
    "interest6 = wn.synset('interest.n.06').hyponyms()\n",
    "interest7 = wn.synset('pastime.n.01').hyponyms()\n",
    "interest8 = wn.synset('interest.v.01').hyponyms()\n",
    "interest9 = wn.synset('interest.v.02').hyponyms()\n",
    "interest10 = wn.synset('matter_to.v.01').hyponyms()\n",
    "print interest1, interest2, interest3, interest4, interest5, interest6, interest7, interest8, interest9, interest10"
   ]
  },
  {
   "cell_type": "code",
   "execution_count": 161,
   "metadata": {},
   "outputs": [
    {
     "name": "stdout",
     "output_type": "stream",
     "text": [
      "[] [] []\n"
     ]
    }
   ],
   "source": [
    "### POLITICAL\n",
    "political1 = wn.synset('political.a.01').hyponyms()\n",
    "political2 = wn.synset('political.a.02').hyponyms()\n",
    "political3 = wn.synset('political.a.03').hyponyms()\n",
    "print political1, political2, political3"
   ]
  },
  {
   "cell_type": "code",
   "execution_count": 162,
   "metadata": {},
   "outputs": [
    {
     "name": "stdout",
     "output_type": "stream",
     "text": [
      "[Synset('corporate_executive.n.01'), Synset('minister.n.02'), Synset('rainmaker.n.01'), Synset('surgeon_general.n.01'), Synset('vice_president.n.01')] [Synset('bush_administration.n.01'), Synset('bush_administration.n.02'), Synset('carter_administration.n.01'), Synset('clinton_administration.n.01'), Synset('reagan_administration.n.01')] [Synset('commissioner.n.01'), Synset('director_of_central_intelligence.n.01'), Synset('prefect.n.01'), Synset('secretary_general.n.01'), Synset('triumvir.n.01')] []\n"
     ]
    }
   ],
   "source": [
    "### EXECUTIVE\n",
    "executive1 = wn.synset('executive.n.01').hyponyms()\n",
    "executive2 = wn.synset('executive.n.02').hyponyms()\n",
    "executive3 = wn.synset('administrator.n.03').hyponyms()\n",
    "executive4 = wn.synset('executive.a.01').hyponyms()\n",
    "print  executive1, executive2, executive3, executive4"
   ]
  },
  {
   "cell_type": "code",
   "execution_count": null,
   "metadata": {
    "collapsed": true
   },
   "outputs": [],
   "source": [
    "### PRINCIPLE\n",
    "principle1 = wn.synset('principle.n.01').hyponyms()\n",
    "principle2 = wn.synset('principle.n.02').hyponyms()\n",
    "principle3 = wn.synset('principle.n.03').hyponyms()\n",
    "principle4 = wn.synset('principle.n.04').hyponyms()\n",
    "principle5 = wn.synset('principle.n.05').hyponyms()\n",
    "principle6 = wn.synset('rationale.n.01').hyponyms()\n",
    "print principle1, principle2, principle3, principle4, principle5, principle6"
   ]
  },
  {
   "cell_type": "code",
   "execution_count": null,
   "metadata": {
    "collapsed": true
   },
   "outputs": [],
   "source": [
    "#Question 3"
   ]
  },
  {
   "cell_type": "code",
   "execution_count": 15,
   "metadata": {},
   "outputs": [
    {
     "name": "stdout",
     "output_type": "stream",
     "text": [
      "\n",
      "Tokenize each word and determine its tag\n",
      "-------------------------------------------------------\n",
      "[('Describe', 'NNP'), ('every', 'DT'), ('step', 'NN'), ('of', 'IN'), ('your', 'PRP$'), ('work', 'NN'), ('and', 'CC'), ('present', 'JJ'), ('all', 'DT'), ('intermediate', 'JJ'), ('and', 'CC'), ('final', 'JJ'), ('results', 'NNS'), ('in', 'IN'), ('a', 'DT'), ('Word', 'NNP'), ('document', 'NN')]\n"
     ]
    }
   ],
   "source": [
    "question3 = \"Describe every step of your work and present all intermediate and final results in a Word document\"\n",
    "tokenized_text = nltk.word_tokenize(question3)\n",
    "tagged_text = nltk.pos_tag(tokenized_text)\n",
    "print(\"\\nTokenize each word and determine its tag\")\n",
    "print(\"-------------------------------------------------------\")\n",
    "print(tagged_text)"
   ]
  },
  {
   "cell_type": "code",
   "execution_count": 16,
   "metadata": {},
   "outputs": [
    {
     "name": "stderr",
     "output_type": "stream",
     "text": [
      "ERROR:root:An unexpected error occurred while tokenizing input\n",
      "The following traceback may be corrupted or invalid\n",
      "The error message is: ('EOF in multi-line string', (1, 0))\n",
      "\n"
     ]
    },
    {
     "ename": "ValueError",
     "evalue": "Unable to parse line 12: PRP$ -> \"your\"\nExpected an arrow",
     "output_type": "error",
     "traceback": [
      "\u001b[1;31m---------------------------------------------------------------------------\u001b[0m",
      "\u001b[1;31mValueError\u001b[0m                                Traceback (most recent call last)",
      "\u001b[1;32m<ipython-input-16-93b31cc5c436>\u001b[0m in \u001b[0;36m<module>\u001b[1;34m()\u001b[0m\n\u001b[0;32m     14\u001b[0m \u001b[0mJJ\u001b[0m \u001b[1;33m-\u001b[0m\u001b[1;33m>\u001b[0m \u001b[1;34m\"present\"\u001b[0m \u001b[1;33m|\u001b[0m \u001b[1;34m\"intermediate\"\u001b[0m \u001b[1;33m|\u001b[0m \u001b[1;34m\"final\"\u001b[0m\u001b[1;33m\u001b[0m\u001b[0m\n\u001b[0;32m     15\u001b[0m \u001b[0mNNS\u001b[0m \u001b[1;33m-\u001b[0m\u001b[1;33m>\u001b[0m \u001b[1;34m\"results\"\u001b[0m\u001b[1;33m\u001b[0m\u001b[0m\n\u001b[1;32m---> 16\u001b[1;33m \"\"\")\n\u001b[0m\u001b[0;32m     17\u001b[0m \u001b[0mHuynhVogrammar\u001b[0m\u001b[1;33m\u001b[0m\u001b[0m\n\u001b[0;32m     18\u001b[0m \u001b[1;31m## I dont whats going on, but I created my grammar as the question requested. Thanks.\u001b[0m\u001b[1;33m\u001b[0m\u001b[1;33m\u001b[0m\u001b[0m\n",
      "\u001b[1;32mC:\\Users\\Devon\\Anaconda\\lib\\site-packages\\nltk\\grammar.pyc\u001b[0m in \u001b[0;36mfromstring\u001b[1;34m(cls, input, encoding)\u001b[0m\n\u001b[0;32m    534\u001b[0m         \"\"\"\n\u001b[0;32m    535\u001b[0m         start, productions = read_grammar(input, standard_nonterm_parser,\n\u001b[1;32m--> 536\u001b[1;33m                                           encoding=encoding)\n\u001b[0m\u001b[0;32m    537\u001b[0m         \u001b[1;32mreturn\u001b[0m \u001b[0mCFG\u001b[0m\u001b[1;33m(\u001b[0m\u001b[0mstart\u001b[0m\u001b[1;33m,\u001b[0m \u001b[0mproductions\u001b[0m\u001b[1;33m)\u001b[0m\u001b[1;33m\u001b[0m\u001b[0m\n\u001b[0;32m    538\u001b[0m \u001b[1;33m\u001b[0m\u001b[0m\n",
      "\u001b[1;32mC:\\Users\\Devon\\Anaconda\\lib\\site-packages\\nltk\\grammar.pyc\u001b[0m in \u001b[0;36mread_grammar\u001b[1;34m(input, nonterm_parser, probabilistic, encoding)\u001b[0m\n\u001b[0;32m   1288\u001b[0m         \u001b[1;32mexcept\u001b[0m \u001b[0mValueError\u001b[0m \u001b[1;32mas\u001b[0m \u001b[0me\u001b[0m\u001b[1;33m:\u001b[0m\u001b[1;33m\u001b[0m\u001b[0m\n\u001b[0;32m   1289\u001b[0m             raise ValueError('Unable to parse line %s: %s\\n%s' %\n\u001b[1;32m-> 1290\u001b[1;33m                              (linenum+1, line, e))\n\u001b[0m\u001b[0;32m   1291\u001b[0m \u001b[1;33m\u001b[0m\u001b[0m\n\u001b[0;32m   1292\u001b[0m     \u001b[1;32mif\u001b[0m \u001b[1;32mnot\u001b[0m \u001b[0mproductions\u001b[0m\u001b[1;33m:\u001b[0m\u001b[1;33m\u001b[0m\u001b[0m\n",
      "\u001b[1;31mValueError\u001b[0m: Unable to parse line 12: PRP$ -> \"your\"\nExpected an arrow"
     ]
    }
   ],
   "source": [
    "HuynhVogrammar = nltk.CFG.fromstring(\"\"\"\n",
    "S -> VP\n",
    "VP -> VB NP\n",
    "NP -> NP PP | DT NN | PRP NX | DT NN NN | DT ADJP NNS\n",
    "PP -> IN NP | JJ NP\n",
    "NX -> NX CC PP | NN\n",
    "ADJP -> JJ CC JJ\n",
    "VB -> \"Describe\"\n",
    "DT -> \"every\" | \"all\" | \"a\"\n",
    "NN -> \"step\" | \"work\" | \"Word\" | \"document\"\n",
    "IN -> \"of\" | \"in\"\n",
    "PRP$ -> \"your\"\n",
    "CC -> \"and\"\n",
    "JJ -> \"present\" | \"intermediate\" | \"final\"\n",
    "NNS -> \"results\"\n",
    "\"\"\")\n",
    "HuynhVogrammar\n",
    "## I dont whats going on, but I created my grammar as the question requested. Thanks."
   ]
  },
  {
   "cell_type": "code",
   "execution_count": 14,
   "metadata": {},
   "outputs": [
    {
     "ename": "NameError",
     "evalue": "name 'HuynhVogrammar' is not defined",
     "output_type": "error",
     "traceback": [
      "\u001b[1;31m---------------------------------------------------------------------------\u001b[0m",
      "\u001b[1;31mNameError\u001b[0m                                 Traceback (most recent call last)",
      "\u001b[1;32m<ipython-input-14-e2ee913060e2>\u001b[0m in \u001b[0;36m<module>\u001b[1;34m()\u001b[0m\n\u001b[1;32m----> 1\u001b[1;33m \u001b[0mrd_parser\u001b[0m \u001b[1;33m=\u001b[0m \u001b[0mnltk\u001b[0m\u001b[1;33m.\u001b[0m\u001b[0mRecursiveDescentParser\u001b[0m\u001b[1;33m(\u001b[0m\u001b[0mHuynhVogrammar\u001b[0m\u001b[1;33m)\u001b[0m\u001b[1;33m\u001b[0m\u001b[0m\n\u001b[0m\u001b[0;32m      2\u001b[0m \u001b[1;32mfor\u001b[0m \u001b[0mtree\u001b[0m \u001b[1;32min\u001b[0m \u001b[0mrd_parser\u001b[0m\u001b[1;33m.\u001b[0m\u001b[0mnbest_parse\u001b[0m\u001b[1;33m(\u001b[0m\u001b[0mquestion3\u001b[0m\u001b[1;33m)\u001b[0m\u001b[1;33m:\u001b[0m\u001b[1;33m\u001b[0m\u001b[0m\n\u001b[0;32m      3\u001b[0m     \u001b[1;32mprint\u001b[0m\u001b[1;33m(\u001b[0m\u001b[0mtree\u001b[0m\u001b[1;33m)\u001b[0m\u001b[1;33m\u001b[0m\u001b[0m\n\u001b[0;32m      4\u001b[0m \u001b[0mtree\u001b[0m\u001b[1;33m.\u001b[0m\u001b[0mdraw\u001b[0m\u001b[1;33m\u001b[0m\u001b[0m\n",
      "\u001b[1;31mNameError\u001b[0m: name 'HuynhVogrammar' is not defined"
     ]
    }
   ],
   "source": [
    "rd_parser = nltk.RecursiveDescentParser(HuynhVogrammar)\n",
    "for tree in rd_parser.nbest_parse(question3):\n",
    "    print(tree)\n",
    "tree.draw"
   ]
  },
  {
   "cell_type": "code",
   "execution_count": null,
   "metadata": {
    "collapsed": true
   },
   "outputs": [],
   "source": []
  }
 ],
 "metadata": {
  "kernelspec": {
   "display_name": "Python 2",
   "language": "python",
   "name": "python2"
  },
  "language_info": {
   "codemirror_mode": {
    "name": "ipython",
    "version": 2
   },
   "file_extension": ".py",
   "mimetype": "text/x-python",
   "name": "python",
   "nbconvert_exporter": "python",
   "pygments_lexer": "ipython2",
   "version": "2.7.14"
  }
 },
 "nbformat": 4,
 "nbformat_minor": 2
}
