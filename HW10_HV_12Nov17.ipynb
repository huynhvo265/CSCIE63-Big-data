{
 "cells": [
  {
   "cell_type": "code",
   "execution_count": null,
   "metadata": {},
   "outputs": [],
   "source": [
    "#HW10 Problem 3, I followed fibonacci problem from Lab10"
   ]
  },
  {
   "cell_type": "code",
   "execution_count": 3,
   "metadata": {},
   "outputs": [
    {
     "name": "stdout",
     "output_type": "stream",
     "text": [
      "Taylor(0)= 2.0\n",
      "Taylor(1)= 3.0\n",
      "Taylor(2)= 3.0\n",
      "Taylor(3)= 2.83333\n",
      "Taylor(4)= 2.75\n",
      "Taylor(5)= 2.725\n",
      "Taylor(6)= 2.71944\n",
      "Taylor(7)= 2.71845\n",
      "Taylor(8)= 2.7183\n",
      "Taylor(9)= 2.71828\n",
      "Taylor(10)= 2.71828\n",
      "Taylor(11)= 2.71828\n",
      "Taylor(12)= 2.71828\n",
      "Taylor(13)= 2.71828\n",
      "Taylor(14)= 2.71828\n",
      "Taylor(15)= 2.71828\n",
      "Taylor(16)= 2.71828\n",
      "Taylor(17)= 2.71828\n",
      "Taylor(18)= 2.71828\n",
      "Taylor(19)= 2.71828\n",
      "Taylor(20)= 2.71828\n",
      "Taylor(21)= 2.71828\n",
      "Taylor(22)= 2.71828\n",
      "Taylor(23)= 2.71828\n",
      "Taylor(24)= 2.71828\n",
      "Taylor(25)= 2.71828\n",
      "Taylor(26)= 2.71828\n",
      "Taylor(27)= 2.71828\n",
      "Taylor(28)= 2.71828\n",
      "Taylor(29)= 2.71828\n"
     ]
    }
   ],
   "source": [
    "import tensorflow as tf\n",
    "\n",
    "Taylor_e=tf.Variable(0.0,name='Taylor_e') #Variable to store the answer\n",
    "tf.cast(Taylor_e,tf.float64)\n",
    "\n",
    "Taylor_n=tf.Variable(1.0,name='Taylor_n') #Variable to store n\n",
    "tf.cast(Taylor_n,tf.float64)\n",
    "\n",
    "Taylor_numerator=tf.pow(1.0, Taylor_n,name='Taylor_numerator') #Variable to set up the numerator of the expansion\n",
    "tf.cast(Taylor_numerator,tf.float64)\n",
    "\n",
    "Taylor_denominator=tf.exp(tf.lgamma(Taylor_n,name=None)) #Variable to set up the factorial denominator\n",
    "tf.cast(Taylor_denominator,tf.float64)\n",
    "\n",
    "Taylor_fraction=tf.divide(Taylor_numerator,Taylor_denominator,name='Taylor_fraction') #Actually does the division of the fraction\n",
    "tf.cast(Taylor_fraction,tf.float64)\n",
    "\n",
    "#Taylor_series=tf.exp(Taylor_n, name='Taylor_series') #Actually does e^x\n",
    "\n",
    "Taylor_expansion=tf.Variable(1.0,name='Taylor_expansion') #temp variable for later addition\n",
    "tf.cast(Taylor_expansion,tf.float64)\n",
    "\n",
    "Fn = tf.add(Taylor_expansion,Taylor_fraction,name='Fn') #temp variable for addition of terms\n",
    "tf.cast(Fn,tf.float64)\n",
    "\n",
    "#Stop = tf.equal(Fn, Taylor_e, name='Stop')\n",
    "#Truth = tf.constant(True, name='Truth')\n",
    "\n",
    "update1=tf.assign(Taylor_e,Fn) #Put the addition value into the answer variable\n",
    "update2=tf.assign_add(Taylor_n,1.0) #increment n\n",
    "update3=tf.assign_add(Taylor_expansion,Taylor_fraction) #Put the fraction value into temp variable to store for next iteration\n",
    "#update4=tf.cond(Stop == Truth, true_fn=, false_fn=None)\n",
    "\n",
    "#run session and print 30 numbers \n",
    "init = tf.global_variables_initializer()  #tensorflow assigns values; we execute this operation init when we open session\n",
    "#this is all just painting of the graph of the operations we will execute\n",
    "with tf.Session() as sess:\n",
    "    sess.run(init)\n",
    "    #We tell Session to execute init\n",
    "    #Now we do the loop from 0 to 29, and print a; step is integer\n",
    "    for step in range(30):\n",
    "        print('Taylor('+str(step)+')= '+ str(sess.run(Fn)))   #adding string version of previously calculated Fn\n",
    "        sess.run(update1)  \n",
    "        sess.run(update2)   \n",
    "        sess.run(update3)                   \n",
    "        #sess.run(update4)\n",
    "        \n",
    "#create graph        \n",
    "file_writer = tf.summary.FileWriter(\"Taylor01\", sess.graph)\n",
    "file_writer.add_graph(sess.graph)\n",
    "file_writer.close() \n",
    "sess.close()"
   ]
  },
  {
   "cell_type": "code",
   "execution_count": 2,
   "metadata": {},
   "outputs": [],
   "source": [
    "#HW10 Problem 4"
   ]
  },
  {
   "cell_type": "code",
   "execution_count": 1,
   "metadata": {},
   "outputs": [],
   "source": [
    "import tensorflow as tf\n",
    "with tf.name_scope(\"Scope_A\"):\n",
    "    a = tf.add(1, 2, name=\"A_add\")\n",
    "    b = tf.multiply(a, 3, name=\"A_mul\")\n",
    "with tf.name_scope(\"Scope_B\"):\n",
    "    c = tf.add(4, 5, name=\"B_add\")\n",
    "    d = tf.multiply(c, 6, name=\"B_mul\")\n",
    "e = tf.add(b, d, name=\"output\")\n",
    "writer = tf.summary.FileWriter('name_scope_1',graph=tf.get_default_graph())\n",
    "writer.close()"
   ]
  },
  {
   "cell_type": "code",
   "execution_count": null,
   "metadata": {},
   "outputs": [],
   "source": [
    "#(C:\\Users\\Devon\\Anaconda3) C:\\Users\\Devon>tensorboard --logdir name_scope_1\n",
    "#Starting TensorBoard b'54' at http://RunDMC:6006"
   ]
  }
 ],
 "metadata": {
  "kernelspec": {
   "display_name": "Python 3",
   "language": "python",
   "name": "python3"
  },
  "language_info": {
   "codemirror_mode": {
    "name": "ipython",
    "version": 3
   },
   "file_extension": ".py",
   "mimetype": "text/x-python",
   "name": "python",
   "nbconvert_exporter": "python",
   "pygments_lexer": "ipython3",
   "version": "3.6.3"
  }
 },
 "nbformat": 4,
 "nbformat_minor": 2
}
